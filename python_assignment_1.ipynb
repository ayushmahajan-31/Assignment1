{
  "nbformat": 4,
  "nbformat_minor": 0,
  "metadata": {
    "colab": {
      "provenance": [],
      "authorship_tag": "ABX9TyP6c96hUur/ZwX09HI8nvKL",
      "include_colab_link": true
    },
    "kernelspec": {
      "name": "python3",
      "display_name": "Python 3"
    },
    "language_info": {
      "name": "python"
    }
  },
  "cells": [
    {
      "cell_type": "markdown",
      "metadata": {
        "id": "view-in-github",
        "colab_type": "text"
      },
      "source": [
        "<a href=\"https://colab.research.google.com/github/ayushmahajan-31/Assignment1/blob/main/python_assignment_1.ipynb\" target=\"_parent\"><img src=\"https://colab.research.google.com/assets/colab-badge.svg\" alt=\"Open In Colab\"/></a>"
      ]
    },
    {
      "cell_type": "markdown",
      "source": [
        "1."
      ],
      "metadata": {
        "id": "OQl47mqviyHU"
      }
    },
    {
      "cell_type": "code",
      "source": [
        "L=[11,12,13,14]\n",
        "print(\"L---->\",L)\n",
        "L.append(50)\n",
        "L.append(60)\n",
        "print(\"after addition L---->\",L)\n",
        "del L[0]\n",
        "del L[2]\n",
        "print(\"After deleteing L ---->\",L)\n",
        "L.sort()\n",
        "print(\"sorted in ascending order L---->\",L)\n",
        "L.sort(reverse=True)\n",
        "print(\"sorted in desending order L---->\",L)\n",
        "t=0\n",
        "for i in L:\n",
        "  if (i==13):\n",
        "    print(\"Found\")\n",
        "    t=1\n",
        "if(t==0):\n",
        "  print(\"Not Found\")\n",
        "s=len(L)\n",
        "print(\"Number of elements in L are\",s)\n",
        "k=sum(L)\n",
        "print(\"Sum of Numbers is --->\",k)\n",
        "c=0\n",
        "for i in range(0,len(L)):\n",
        "  if (L[i]%2!=0):\n",
        "    c=c+L[i]\n",
        "print(\"sum of odd numbers is--->\",c)    \n",
        "c=0\n",
        "for i in range(0,len(L)):\n",
        "  if (L[i]%2==0):\n",
        "    c=c+L[i]\n",
        "print(\"sum of even numbers is--->\",c)\n",
        "sum_prime=0\n",
        "for s in L:\n",
        "  for n in range(2,s//2+1):\n",
        "    if(s%n==0):\n",
        "      flag=0\n",
        "    else:\n",
        "      flag=1\n",
        "  if(flag==1):\n",
        "    sum_prime=sum_prime+s\n",
        "  else:\n",
        "    continue\n",
        "\n",
        "print(\"The sum of prime numbers----\",sum_prime)      \n",
        "L.clear()\n",
        "print(\"After clearing L---->\",L)\n",
        "del L\n"
      ],
      "metadata": {
        "colab": {
          "base_uri": "https://localhost:8080/"
        },
        "id": "-yv1WbsDi2t0",
        "outputId": "0c7429cb-b2e6-4e1f-c7a4-828b5b0a696c"
      },
      "execution_count": null,
      "outputs": [
        {
          "output_type": "stream",
          "name": "stdout",
          "text": [
            "L----> [11, 12, 13, 14]\n",
            "after addition L----> [11, 12, 13, 14, 50, 60]\n",
            "After deleteing L ----> [12, 13, 50, 60]\n",
            "sorted in ascending order L----> [12, 13, 50, 60]\n",
            "sorted in desending order L----> [60, 50, 13, 12]\n",
            "Found\n",
            "Number of elements in L are 4\n",
            "Sum of Numbers is ---> 135\n",
            "sum of odd numbers is---> 13\n",
            "sum of even numbers is---> 122\n",
            "The sum of prime numbers---- 13\n",
            "After clearing L----> []\n"
          ]
        }
      ]
    },
    {
      "cell_type": "markdown",
      "source": [
        "2."
      ],
      "metadata": {
        "id": "2vlS__z8x1z5"
      }
    },
    {
      "cell_type": "code",
      "source": [
        "D={1:5.6,2:7.8,3:6.6,4:8.7,5:7.7}\n",
        "print(\"dictionary is --->\",D)\n",
        "D[8]=8.8\n",
        "print(\"After adding (8)---->\",D)\n",
        "del D[2]\n",
        "print(\"after deleting (2)--->\",D)\n",
        "print (\"Is Key 6 Present    --> \", 6 in D)\n",
        "print (\"Number of elements is---->\",len(D))\n",
        "H=D.values()\n",
        "s=sum(H)\n",
        "print(\"Sum of all elements is --->\",s)\n",
        "D[3]=7.1\n",
        "print(\"After updating (3)--->\",D)\n",
        "D.clear()\n",
        "print(\"After clearing D---->\",D)"
      ],
      "metadata": {
        "colab": {
          "base_uri": "https://localhost:8080/"
        },
        "id": "rivkQMJsx4Mb",
        "outputId": "17be7264-55b5-490a-f612-a2709c811d28"
      },
      "execution_count": null,
      "outputs": [
        {
          "output_type": "stream",
          "name": "stdout",
          "text": [
            "dictionary is ---> {1: 5.6, 2: 7.8, 3: 6.6, 4: 8.7, 5: 7.7}\n",
            "After adding (8)----> {1: 5.6, 2: 7.8, 3: 6.6, 4: 8.7, 5: 7.7, 8: 8.8}\n",
            "after deleting (2)---> {1: 5.6, 3: 6.6, 4: 8.7, 5: 7.7, 8: 8.8}\n",
            "Is Key 6 Present    -->  False\n",
            "Number of elements is----> 5\n",
            "Sum of all elements is ---> 37.4\n",
            "After updating (3)---> {1: 5.6, 3: 7.1, 4: 8.7, 5: 7.7, 8: 8.8}\n",
            "After clearing D----> {}\n"
          ]
        }
      ]
    },
    {
      "cell_type": "markdown",
      "source": [
        "3."
      ],
      "metadata": {
        "id": "_8CrJP2l6MYQ"
      }
    },
    {
      "cell_type": "code",
      "source": [
        "S1=set([10,20,30,40,50,60])\n",
        "S2=set([40,50,60,70,80,90])\n",
        "S1.add(55)\n",
        "S1.add(66)\n",
        "print(\"after adding S1--->\",S1)\n",
        "S1.remove(10)\n",
        "S1.remove(30)\n",
        "print(\"after deleting S1--->\",S1)\n",
        "print(\"40 in S1--->\",40 in S1)\n",
        "print (\"Union of S1 and S2    --> \", S1.union(S2))\n",
        "print (\"Intersection of S1,S2 --> \", S1.intersection(S2))\n",
        "print (\"Difference S1 - S2    --> \", S1 - S2)\n",
        "\n"
      ],
      "metadata": {
        "colab": {
          "base_uri": "https://localhost:8080/"
        },
        "id": "PXSLrU3E6Our",
        "outputId": "229474e0-a09b-44df-dddf-3313b62bb7da"
      },
      "execution_count": null,
      "outputs": [
        {
          "output_type": "stream",
          "name": "stdout",
          "text": [
            "after adding S1---> {66, 40, 10, 50, 20, 55, 60, 30}\n",
            "after deleting S1---> {66, 40, 50, 20, 55, 60}\n",
            "40 in S1---> True\n",
            "Union of S1 and S2    -->  {66, 70, 40, 80, 50, 20, 55, 90, 60}\n",
            "Intersection of S1,S2 -->  {40, 50, 60}\n",
            "Difference S1 - S2    -->  {66, 20, 55}\n"
          ]
        }
      ]
    },
    {
      "cell_type": "markdown",
      "source": [
        "4."
      ],
      "metadata": {
        "id": "HKSlSyU4QPu3"
      }
    },
    {
      "cell_type": "markdown",
      "source": [
        "4.1"
      ],
      "metadata": {
        "id": "XB91bv6Uq_77"
      }
    },
    {
      "cell_type": "code",
      "source": [
        "import string as s\n",
        "import random as r\n",
        "\n",
        "print(\"The letters are----\",s.ascii_letters)\n",
        "\n",
        "n=0\n",
        "for n in range(0,101):\n",
        "  m=r.randint(6,8)\n",
        "  chars=r.sample(s.ascii_letters,m)\n",
        "  str=\"\".join(chars)\n",
        "  print(\"The \",n,\"th string with \",m,\"characters is----\",str)"
      ],
      "metadata": {
        "id": "dXzuubwFqfm6"
      },
      "execution_count": null,
      "outputs": []
    },
    {
      "cell_type": "markdown",
      "source": [
        "4.2"
      ],
      "metadata": {
        "id": "3P7IcY-trEBW"
      }
    },
    {
      "cell_type": "code",
      "source": [
        "for n in range(600,801):\n",
        "  flag=0\n",
        "  for i in range(2,n//2+1):\n",
        "    if(n%i==0):\n",
        "      flag=flag+1\n",
        "      break\n",
        "   \n",
        "\n",
        "  if flag==0 :\n",
        "    print(\"the number is----\",n)"
      ],
      "metadata": {
        "id": "tGZGEFZ4vdtO"
      },
      "execution_count": null,
      "outputs": []
    },
    {
      "cell_type": "markdown",
      "source": [
        "4.3"
      ],
      "metadata": {
        "id": "uugGrdZ8-AkR"
      }
    },
    {
      "cell_type": "code",
      "source": [
        "for n in range(100,1001):\n",
        "  if(n%7==0 and n%9==0):\n",
        "    print(\"The number is----\",n)\n",
        "  else:\n",
        "    continue"
      ],
      "metadata": {
        "colab": {
          "base_uri": "https://localhost:8080/"
        },
        "id": "Bo8lNvfN-XPl",
        "outputId": "997508cf-f290-4425-c7aa-e1ac394eac9c"
      },
      "execution_count": null,
      "outputs": [
        {
          "output_type": "stream",
          "name": "stdout",
          "text": [
            "The number is---- 126\n",
            "The number is---- 189\n",
            "The number is---- 252\n",
            "The number is---- 315\n",
            "The number is---- 378\n",
            "The number is---- 441\n",
            "The number is---- 504\n",
            "The number is---- 567\n",
            "The number is---- 630\n",
            "The number is---- 693\n",
            "The number is---- 756\n",
            "The number is---- 819\n",
            "The number is---- 882\n",
            "The number is---- 945\n"
          ]
        }
      ]
    },
    {
      "cell_type": "markdown",
      "source": [
        "5."
      ],
      "metadata": {
        "id": "BHX6Cqb8-e6R"
      }
    },
    {
      "cell_type": "markdown",
      "source": [
        "5.1"
      ],
      "metadata": {
        "id": "hDFqdR6x-gO5"
      }
    },
    {
      "cell_type": "code",
      "source": [
        "import random as r\n",
        "L1=[]\n",
        "L2=[]\n",
        "for i in range(1,11):\n",
        "  n=r.randint(10,30)\n",
        "  L1.append(n)\n",
        "for i in range(1,11):\n",
        "  n=r.randint(10,30)\n",
        "  L2.append(n)\n",
        "print(\"The List 1 is----\",L1)\n",
        "print(\"The List 2 is----\",L2)\n",
        "print(\"The common members are----\")\n",
        "for i in range(0,10):\n",
        "  for j in range(0,10):\n",
        "    if(L1[i]==L2[j]):\n",
        "      print(L1[i])\n",
        "    else:\n",
        "      continue\n",
        "\n",
        "print(\" The unique members are----\")\n",
        "flag=0\n",
        "for i in range(0,10):\n",
        "  for j in range(0,10):\n",
        "    if(L1[i]==L2[j]):\n",
        "      flag=0\n",
        "      break\n",
        "    else:\n",
        "      flag=1\n",
        "  if(flag==1):\n",
        "    print(L1[i])\n",
        "\n",
        "print(\" The min in list 1----\",min(L1))\n",
        "print(\" The min in list 2----\",min(L2))\n",
        "print(\" The max in list 1----\",max(L1))\n",
        "print(\" The max in list 2----\",max(L2))\n",
        "\n",
        "print(\" The sum is----\",L1+L2)"
      ],
      "metadata": {
        "id": "9LEb13Fc_dnN"
      },
      "execution_count": null,
      "outputs": []
    },
    {
      "cell_type": "markdown",
      "source": [
        "6"
      ],
      "metadata": {
        "id": "qNt0ohZw_opE"
      }
    },
    {
      "cell_type": "code",
      "source": [
        "import random as r\n",
        "L1=[]\n",
        "for i in range(1,101):\n",
        "  n=r.randint(100,900)\n",
        "  L1.append(n)\n",
        "print(\"The List 1 is----\",L1)\n",
        "c=0\n",
        "for i in range(0,len(L1)):\n",
        "  if(L1[i]%2!=0):\n",
        "    c=c+1\n",
        "    print(L1[i])\n",
        "    \n",
        "print(\"total odd numbers are-->\",c)\n",
        "c=0\n",
        "for i in range(0,len(L1)):\n",
        "  if(L1[i]%2==0):\n",
        "    c=c+1\n",
        "    print(L1[i])\n",
        "    \n",
        "print(\"total even numbers are-->\",c)\n",
        "c=0\n",
        "for n in range(0,len(L1)):\n",
        "  flag=0\n",
        "  for i in range(2,L1[n]//2+1):\n",
        "    if (L1[n]%i==0):\n",
        "      flag=flag+1\n",
        "      break\n",
        "  if flag==0 :\n",
        "    print(\"the number is----\",L1[n])\n",
        "    c=c+1\n",
        "\n",
        "print(\"total Prime Numbers are---->\",c)\n",
        "\n",
        "\n",
        "\n"
      ],
      "metadata": {
        "id": "zdv2-Zlj_qZp"
      },
      "execution_count": null,
      "outputs": []
    },
    {
      "cell_type": "markdown",
      "source": [
        "7"
      ],
      "metadata": {
        "id": "aUZL48MZGKrg"
      }
    },
    {
      "cell_type": "code",
      "source": [
        "D={1:\"One\",2:\"Two\",3:\"Three\",4:\"Four\",5:\"Five\"}\n",
        "print (\"Dictionary --> \",D)\n",
        "print (\"Keys       --> \", list(D.keys()))\n",
        "print (\"Values     --> \", list(D.values()))\n",
        "fp=open('Ques7.txt','w')\n",
        "fp.write(D[1]+\"\\n\")\n",
        "fp.write(D[2]+\"\\n\")\n",
        "fp.write(D[3]+\"\\n\")\n",
        "fp.write(D[4]+\"\\n\")\n",
        "fp.write(D[5])\n",
        "fp.close()"
      ],
      "metadata": {
        "colab": {
          "base_uri": "https://localhost:8080/"
        },
        "id": "_QBBJf14GAuA",
        "outputId": "b2403a9b-79ea-40c3-d503-2258b5471ef1"
      },
      "execution_count": 30,
      "outputs": [
        {
          "output_type": "stream",
          "name": "stdout",
          "text": [
            "Dictionary -->  {1: 'One', 2: 'Two', 3: 'Three', 4: 'Four', 5: 'Five'}\n",
            "Keys       -->  [1, 2, 3, 4, 5]\n",
            "Values     -->  ['One', 'Two', 'Three', 'Four', 'Five']\n"
          ]
        }
      ]
    },
    {
      "cell_type": "markdown",
      "source": [
        "8."
      ],
      "metadata": {
        "id": "ks-aKvoeNe3Q"
      }
    },
    {
      "cell_type": "code",
      "source": [
        "\n",
        "L=[\"One\",\"Two\",\"Three\",\"Four\",\"Five\"]\n",
        "fp=open('Ques8.txt','w')\n",
        "fp.write(L[0]+\" \")\n",
        "fp.write(str(len(L[0]))+\"\\n\")\n",
        "fp.write(L[1]+\" \")\n",
        "fp.write(str(len(L[1]))+\"\\n\")\n",
        "fp.write(L[2]+\" \")\n",
        "fp.write(str(len(L[2]))+\"\\n\")\n",
        "fp.write(L[3]+\" \")\n",
        "fp.write(str(len(L[3]))+\"\\n\")\n",
        "fp.write(L[4]+\" \")\n",
        "fp.write(str(len(L[4])))\n",
        "fp.close()\n",
        "\n",
        "\n"
      ],
      "metadata": {
        "id": "iivG5yvMRdcU"
      },
      "execution_count": 48,
      "outputs": []
    },
    {
      "cell_type": "markdown",
      "source": [
        "9."
      ],
      "metadata": {
        "id": "tuJUgu4xNkxN"
      }
    },
    {
      "cell_type": "code",
      "source": [
        "import random as r\n",
        "import string as s\n",
        "\n",
        "fp=open('Ques9.txt','w')\n",
        "fp.write(\"Total characters---\")\n",
        "fp.write(s.ascii_letters)\n",
        "for i in range(0,100):\n",
        "  m=r.randint(10,15)\n",
        "  sent=r.sample(s.ascii_letters,m)\n",
        "  line=\"\".join(sent)\n",
        "  fp.write(line+\" \"+str(m)+\"\\n\")\n",
        "fp.close()\n",
        "\n",
        "\n"
      ],
      "metadata": {
        "id": "JBX4sr1zNmXK"
      },
      "execution_count": 46,
      "outputs": []
    },
    {
      "cell_type": "markdown",
      "source": [
        "10"
      ],
      "metadata": {
        "id": "TCCvJ8zBgryH"
      }
    },
    {
      "cell_type": "code",
      "source": [
        "fp=open('Ques10.txt','w')\n",
        "\n",
        "\n",
        "for n in range(600,801):\n",
        "  for i in range(2,n//2+1):\n",
        "    if(n%i==0):\n",
        "      flag=0\n",
        "      break\n",
        "    else:\n",
        "      flag=1\n",
        "      continue\n",
        "  if(flag==1):\n",
        "    fp.write(str(n)+\"\\n\")\n",
        "  else:\n",
        "    continue\n",
        "fp.close()"
      ],
      "metadata": {
        "id": "7sqzwgoZgsm-"
      },
      "execution_count": null,
      "outputs": []
    },
    {
      "cell_type": "markdown",
      "source": [
        "13"
      ],
      "metadata": {
        "id": "IgAYVKbjgt69"
      }
    },
    {
      "cell_type": "code",
      "source": [
        "D={}\n",
        "for i in range(0,5):\n",
        "  s=input(\"Enter the subject---\")\n",
        "  m=int(input(\"Enter the marks---\"))\n",
        "  D[s]=m\n",
        "\n",
        "print(\"The dictionary is---\",D)\n",
        "print(\"The maximum marks are in---\",max(D))\n",
        "print(\"The minimum marks are in---\",min(D))"
      ],
      "metadata": {
        "id": "NngTCwvZgus8"
      },
      "execution_count": null,
      "outputs": []
    }
  ]
}